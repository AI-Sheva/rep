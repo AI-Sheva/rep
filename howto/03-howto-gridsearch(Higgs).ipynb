{
 "cells": [
  {
   "cell_type": "markdown",
   "metadata": {},
   "source": [
    "# About\n",
    "\n",
    "This notebook demonstrates several additional tools to optimize classification model provided by __Reproducible experiment platform (REP)__ package:\n",
    "\n",
    "* __grid search for the best classifier hyperparameters__\n",
    "\n",
    "* __different optimization algorithms__ \n",
    "\n",
    "* __different scoring models__ (optimization of arbirtary figure of merit)\n",
    "\n"
   ]
  },
  {
   "cell_type": "code",
   "execution_count": 1,
   "metadata": {
    "collapsed": false
   },
   "outputs": [
    {
     "name": "stdout",
     "output_type": "stream",
     "text": [
      "Populating the interactive namespace from numpy and matplotlib\n"
     ]
    }
   ],
   "source": [
    "%pylab inline"
   ]
  },
  {
   "cell_type": "markdown",
   "metadata": {},
   "source": [
    "# Loading data for Higgs Boson Challenge"
   ]
  },
  {
   "cell_type": "code",
   "execution_count": 2,
   "metadata": {
    "collapsed": false
   },
   "outputs": [
    {
     "data": {
      "text/plain": [
       "['EventId',\n",
       " 'DER_mass_MMC',\n",
       " 'DER_mass_transverse_met_lep',\n",
       " 'DER_mass_vis',\n",
       " 'DER_pt_h',\n",
       " 'DER_deltaeta_jet_jet',\n",
       " 'DER_mass_jet_jet',\n",
       " 'DER_prodeta_jet_jet',\n",
       " 'DER_deltar_tau_lep',\n",
       " 'DER_pt_tot',\n",
       " 'DER_sum_pt',\n",
       " 'DER_pt_ratio_lep_tau',\n",
       " 'DER_met_phi_centrality',\n",
       " 'DER_lep_eta_centrality',\n",
       " 'PRI_tau_pt',\n",
       " 'PRI_tau_eta',\n",
       " 'PRI_tau_phi',\n",
       " 'PRI_lep_pt',\n",
       " 'PRI_lep_eta',\n",
       " 'PRI_lep_phi',\n",
       " 'PRI_met',\n",
       " 'PRI_met_phi',\n",
       " 'PRI_met_sumet',\n",
       " 'PRI_jet_num',\n",
       " 'PRI_jet_leading_pt',\n",
       " 'PRI_jet_leading_eta',\n",
       " 'PRI_jet_leading_phi',\n",
       " 'PRI_jet_subleading_pt',\n",
       " 'PRI_jet_subleading_eta',\n",
       " 'PRI_jet_subleading_phi',\n",
       " 'PRI_jet_all_pt',\n",
       " 'Weight',\n",
       " 'Label']"
      ]
     },
     "execution_count": 2,
     "metadata": {},
     "output_type": "execute_result"
    }
   ],
   "source": [
    "import numpy, pandas\n",
    "from rep.utils import train_test_split\n",
    "from sklearn.metrics import roc_auc_score\n",
    "\n",
    "data = pandas.read_csv('toy_datasets/Higgs.csv', sep='\\t')\n",
    "labels = data['Label'].values\n",
    "labels = labels == 's'\n",
    "sample_weight = data['Weight'].values\n",
    "\n",
    "train_data, test_data, train_labels, test_labels, train_weight, test_weight = train_test_split(data, labels, sample_weight)\n",
    "\n",
    "list(data.columns)"
   ]
  },
  {
   "cell_type": "markdown",
   "metadata": {},
   "source": [
    "## Variables used in training"
   ]
  },
  {
   "cell_type": "code",
   "execution_count": 3,
   "metadata": {
    "collapsed": false
   },
   "outputs": [],
   "source": [
    "features = list(set(data.columns) - set(['Weight', 'Label', 'EventId']))"
   ]
  },
  {
   "cell_type": "markdown",
   "metadata": {},
   "source": [
    "# Metric definition\n",
    "\n",
    "In Higgs challenge the aim is to maximize `AMS` metrics. <br />\n",
    "To measure the quality one should choose not only classifier, but also an optimal threshold, \n",
    "where the maximal value of `AMS` is achieved.\n",
    "\n",
    "Such metrics (which require a threshold) are called threshold-based.\n",
    "\n",
    "__rep.utils__ contain class __OptimalMetric__, which computes the maximal value for threshold-based metric (and may be used as metric).\n",
    "\n",
    "Use this class to generate metric and use it in grid search."
   ]
  },
  {
   "cell_type": "markdown",
   "metadata": {},
   "source": [
    "## Prepare quality metric\n",
    "\n",
    "first we define AMS metric, and `utils.OptimalMetric` generates "
   ]
  },
  {
   "cell_type": "code",
   "execution_count": 4,
   "metadata": {
    "collapsed": false
   },
   "outputs": [],
   "source": [
    "from rep.report import metrics"
   ]
  },
  {
   "cell_type": "code",
   "execution_count": 5,
   "metadata": {
    "collapsed": false
   },
   "outputs": [],
   "source": [
    "def AMS(s, b): \n",
    "    br = 10.0\n",
    "    radicand = 2 *( (s+b+br) * numpy.log (1.0 + s/(b+br)) - s)\n",
    "    return numpy.sqrt(radicand)\n",
    "\n",
    "optimal_AMS = metrics.OptimalMetric(AMS, expected_s=692., expected_b=410999.)"
   ]
  },
  {
   "cell_type": "markdown",
   "metadata": {},
   "source": [
    "### Compute threshold vs metric quality\n",
    "random predictions for signal and background were used here"
   ]
  },
  {
   "cell_type": "code",
   "execution_count": 6,
   "metadata": {
    "collapsed": false
   },
   "outputs": [
    {
     "name": "stdout",
     "output_type": "stream",
     "text": [
      "Optimal cut=0.0004, quality=1.0802\n"
     ]
    },
    {
     "data": {
      "text/html": [],
      "text/plain": [
       "<rep.plotting.FunctionsPlot at 0x11389f590>"
      ]
     },
     "execution_count": 6,
     "metadata": {},
     "output_type": "execute_result"
    },
    {
     "data": {
      "image/png": "[encoded data removed]",
      "text/plain": [
       "<matplotlib.figure.Figure at 0x11389f5d0>"
      ]
     },
     "metadata": {},
     "output_type": "display_data"
    }
   ],
   "source": [
    "probs_rand = numpy.ndarray((1000, 2))\n",
    "probs_rand[:, 1] = numpy.random.random(1000)\n",
    "probs_rand[:, 0] = 1 - probs_rand[:, 1]\n",
    "labels_rand = numpy.random.randint(0, high=2, size=1000)\n",
    "\n",
    "optimal_AMS.plot_vs_cut(labels_rand, probs_rand)"
   ]
  },
  {
   "cell_type": "markdown",
   "metadata": {},
   "source": [
    "### The best quality"
   ]
  },
  {
   "cell_type": "code",
   "execution_count": 7,
   "metadata": {
    "collapsed": false
   },
   "outputs": [
    {
     "data": {
      "text/plain": [
       "1.0801533437621837"
      ]
     },
     "execution_count": 7,
     "metadata": {},
     "output_type": "execute_result"
    }
   ],
   "source": [
    "optimal_AMS(labels_rand, probs_rand)"
   ]
  },
  {
   "cell_type": "markdown",
   "metadata": {},
   "source": [
    "# Hyperparameters optimization algorithms\n",
    "\n",
    "__AbstractParameterGenerator__ is an abstract class to generate new points, where the scorer function will be computed. It is used in grid search to get new set of parameters to train classifier.\n",
    "\n",
    "__Properties__:\n",
    "\n",
    "* `best_params_` - return the best grid point\n",
    "\n",
    "* `best_score_` - return the best quality\n",
    "\n",
    "* `print_results(self, reorder=True)` - print all points with corresponding quality\n",
    "\n",
    "\n",
    "The following algorithms inherit from __AbstractParameterGenerator__:\n",
    "\n",
    "* `RandomParameterOptimizer` -  generates random point in parameters space\n",
    "    \n",
    "* `RegressionParameterOptimizer` - generate next point using regression algorithm, which was trained on previous results\n",
    "    \n",
    "* `SubgridParameterOptimizer` - uses subgrids if grid is huge + annealing-like technique (details see in __REP__)"
   ]
  },
  {
   "cell_type": "markdown",
   "metadata": {},
   "source": [
    "# Grid search"
   ]
  },
  {
   "cell_type": "markdown",
   "metadata": {},
   "source": [
    "__GridOptimalSearchCV__ implemets optimal search over specified parameter values for an estimator. Parameters to use it are:\n",
    "\n",
    "* estimator - object of type that implements the \"fit\" and \"predict\" methods\n",
    "\n",
    "* params_generator - generator of grid search algorithm (AbstractParameterGenerator)\n",
    "\n",
    "* scorer -  which implement method __call__ with kwargs: \"base_estimator\", \"params\", \"X\", \"y\", \"sample_weight\"\n",
    "\n",
    "* Important members are \"fit\", \"fit_best_estimator\""
   ]
  },
  {
   "cell_type": "code",
   "execution_count": 8,
   "metadata": {
    "collapsed": false
   },
   "outputs": [],
   "source": [
    "from rep.metaml import GridOptimalSearchCV\n",
    "from rep.metaml.gridsearch import RandomParameterOptimizer, FoldingScorer\n",
    "from rep.estimators import SklearnClassifier\n",
    "from sklearn.ensemble import AdaBoostClassifier\n",
    "from collections import OrderedDict"
   ]
  },
  {
   "cell_type": "markdown",
   "metadata": {},
   "source": [
    "## Grid search with folding scorer\n",
    "\n",
    "__FoldingScorer__ provides folding cross-validation for train dataset:\n",
    "\n",
    "* folds - `k`, number of folds (train on `k-1` fold, test on `1` fold)\n",
    "* folds_check - number of times model will be tested\n",
    "* score_function - function to calculate quality with interface \"function(y_true, proba, sample_weight=None)\"\n",
    "\n",
    "__NOTE__: if fold_checks > 1, the quality is averaged over tests.\n"
   ]
  },
  {
   "cell_type": "code",
   "execution_count": 9,
   "metadata": {
    "collapsed": false
   },
   "outputs": [
    {
     "data": {
      "text/plain": [
       "<rep.metaml.gridsearch.GridOptimalSearchCV at 0x11475e850>"
      ]
     },
     "execution_count": 9,
     "metadata": {},
     "output_type": "execute_result"
    }
   ],
   "source": [
    "# define grid parameters\n",
    "grid_param = OrderedDict()\n",
    "grid_param['n_estimators'] = [10, 20, 30]\n",
    "grid_param['learning_rate'] = [0.1, 0.05]\n",
    "\n",
    "# use random hyperparameter optimization algorithm \n",
    "generator = RandomParameterOptimizer(grid_param)\n",
    "# define folding scorer\n",
    "scorer = FoldingScorer(optimal_AMS, folds=4, fold_checks=2)\n",
    "\n",
    "grid_sk = GridOptimalSearchCV(SklearnClassifier(AdaBoostClassifier(), features=features), generator, scorer)\n",
    "grid_sk.fit(data, labels)"
   ]
  },
  {
   "cell_type": "markdown",
   "metadata": {},
   "source": [
    "### Print best parameters"
   ]
  },
  {
   "cell_type": "code",
   "execution_count": 10,
   "metadata": {
    "collapsed": false
   },
   "outputs": [
    {
     "data": {
      "text/plain": [
       "OrderedDict([('n_estimators', 30), ('learning_rate', 0.1)])"
      ]
     },
     "execution_count": 10,
     "metadata": {},
     "output_type": "execute_result"
    }
   ],
   "source": [
    "grid_sk.generator.best_params_"
   ]
  },
  {
   "cell_type": "markdown",
   "metadata": {},
   "source": [
    "### Print all qualities for used parameters"
   ]
  },
  {
   "cell_type": "code",
   "execution_count": 11,
   "metadata": {
    "collapsed": false
   },
   "outputs": [
    {
     "name": "stdout",
     "output_type": "stream",
     "text": [
      "2.245:  n_estimators=30, learning_rate=0.1\n",
      "2.106:  n_estimators=20, learning_rate=0.1\n",
      "2.033:  n_estimators=30, learning_rate=0.05\n",
      "1.777:  n_estimators=20, learning_rate=0.05\n",
      "1.771:  n_estimators=10, learning_rate=0.1\n",
      "1.767:  n_estimators=10, learning_rate=0.05\n"
     ]
    }
   ],
   "source": [
    "grid_sk.generator.print_results()"
   ]
  },
  {
   "cell_type": "markdown",
   "metadata": {},
   "source": [
    "## Grid search with user-defined scorer\n",
    "\n",
    "You can define your own scorer with specific logic by simple way. Scorer must have just the following:\n",
    "\n",
    "* scorer(base_estimator, params, X, y, sample_weight)"
   ]
  },
  {
   "cell_type": "markdown",
   "metadata": {},
   "source": [
    "### Prepare reweight function"
   ]
  },
  {
   "cell_type": "code",
   "execution_count": 12,
   "metadata": {
    "collapsed": false
   },
   "outputs": [],
   "source": [
    "def normed_weight(y, weight):\n",
    "    weight[y == 1] *= sum(weight[y == 0]) / sum(weight[y == 1])\n",
    "    return weight"
   ]
  },
  {
   "cell_type": "markdown",
   "metadata": {},
   "source": [
    "### Define scorer, which will be train model on all dataset and test it on the pre-defined dataset"
   ]
  },
  {
   "cell_type": "code",
   "execution_count": 13,
   "metadata": {
    "collapsed": false
   },
   "outputs": [],
   "source": [
    "from sklearn import clone\n",
    "def generate_scorer(test, labels, test_weight=None):\n",
    "    \"\"\" Generate scorer which calculate metric on fixed test dataset \"\"\"\n",
    "    def custom(base_estimator, params, X, y, sample_weight=None):\n",
    "        cl = clone(base_estimator)\n",
    "        cl.set_params(**params)\n",
    "        cl.fit(X, y)\n",
    "        res = optimal_AMS(labels, cl.predict_proba(test), sample_weight=test_weight)\n",
    "        return res\n",
    "    return custom"
   ]
  },
  {
   "cell_type": "code",
   "execution_count": 14,
   "metadata": {
    "collapsed": false
   },
   "outputs": [
    {
     "data": {
      "text/plain": [
       "<rep.metaml.gridsearch.GridOptimalSearchCV at 0x114764710>"
      ]
     },
     "execution_count": 14,
     "metadata": {},
     "output_type": "execute_result"
    }
   ],
   "source": [
    "# define grid parameters\n",
    "grid_param = OrderedDict()\n",
    "grid_param['n_estimators'] = [10, 20, 30]\n",
    "grid_param['learning_rate'] = [0.1, 0.05]\n",
    "grid_param['features'] = [features[:5], features[:10]]\n",
    "\n",
    "# define random hyperparameter optimization algorithm \n",
    "generator = RandomParameterOptimizer(grid_param)\n",
    "# define specific scorer\n",
    "scorer = generate_scorer(test_data, test_labels, test_weight)\n",
    "\n",
    "grid = GridOptimalSearchCV(SklearnClassifier(clf=AdaBoostClassifier(), features=features), generator, scorer)\n",
    "grid.fit(train_data, train_labels, train_weight)"
   ]
  },
  {
   "cell_type": "code",
   "execution_count": 15,
   "metadata": {
    "collapsed": false
   },
   "outputs": [
    {
     "data": {
      "text/plain": [
       "(187500, 62500)"
      ]
     },
     "execution_count": 15,
     "metadata": {},
     "output_type": "execute_result"
    }
   ],
   "source": [
    "len(train_data), len(test_data)"
   ]
  },
  {
   "cell_type": "markdown",
   "metadata": {},
   "source": [
    "### Print all tried combinations of parameters and quality"
   ]
  },
  {
   "cell_type": "code",
   "execution_count": 16,
   "metadata": {
    "collapsed": false
   },
   "outputs": [
    {
     "name": "stdout",
     "output_type": "stream",
     "text": [
      "1.587:  n_estimators=30, learning_rate=0.1, features=['DER_pt_tot', 'PRI_jet_leading_phi', 'DER_mass_MMC', 'DER_met_phi_centrality', 'DER_prodeta_jet_jet', 'DER_lep_eta_centrality', 'PRI_lep_eta', 'PRI_jet_subleading_phi', 'DER_sum_pt', 'PRI_tau_phi']\n",
      "1.583:  n_estimators=20, learning_rate=0.1, features=['DER_pt_tot', 'PRI_jet_leading_phi', 'DER_mass_MMC', 'DER_met_phi_centrality', 'DER_prodeta_jet_jet']\n",
      "1.583:  n_estimators=20, learning_rate=0.1, features=['DER_pt_tot', 'PRI_jet_leading_phi', 'DER_mass_MMC', 'DER_met_phi_centrality', 'DER_prodeta_jet_jet', 'DER_lep_eta_centrality', 'PRI_lep_eta', 'PRI_jet_subleading_phi', 'DER_sum_pt', 'PRI_tau_phi']\n",
      "1.575:  n_estimators=30, learning_rate=0.05, features=['DER_pt_tot', 'PRI_jet_leading_phi', 'DER_mass_MMC', 'DER_met_phi_centrality', 'DER_prodeta_jet_jet', 'DER_lep_eta_centrality', 'PRI_lep_eta', 'PRI_jet_subleading_phi', 'DER_sum_pt', 'PRI_tau_phi']\n",
      "1.575:  n_estimators=30, learning_rate=0.05, features=['DER_pt_tot', 'PRI_jet_leading_phi', 'DER_mass_MMC', 'DER_met_phi_centrality', 'DER_prodeta_jet_jet']\n",
      "1.550:  n_estimators=20, learning_rate=0.05, features=['DER_pt_tot', 'PRI_jet_leading_phi', 'DER_mass_MMC', 'DER_met_phi_centrality', 'DER_prodeta_jet_jet']\n",
      "1.384:  n_estimators=10, learning_rate=0.1, features=['DER_pt_tot', 'PRI_jet_leading_phi', 'DER_mass_MMC', 'DER_met_phi_centrality', 'DER_prodeta_jet_jet', 'DER_lep_eta_centrality', 'PRI_lep_eta', 'PRI_jet_subleading_phi', 'DER_sum_pt', 'PRI_tau_phi']\n",
      "1.384:  n_estimators=10, learning_rate=0.1, features=['DER_pt_tot', 'PRI_jet_leading_phi', 'DER_mass_MMC', 'DER_met_phi_centrality', 'DER_prodeta_jet_jet']\n",
      "1.380:  n_estimators=10, learning_rate=0.05, features=['DER_pt_tot', 'PRI_jet_leading_phi', 'DER_mass_MMC', 'DER_met_phi_centrality', 'DER_prodeta_jet_jet']\n",
      "1.380:  n_estimators=10, learning_rate=0.05, features=['DER_pt_tot', 'PRI_jet_leading_phi', 'DER_mass_MMC', 'DER_met_phi_centrality', 'DER_prodeta_jet_jet', 'DER_lep_eta_centrality', 'PRI_lep_eta', 'PRI_jet_subleading_phi', 'DER_sum_pt', 'PRI_tau_phi']\n"
     ]
    }
   ],
   "source": [
    "grid.generator.print_results()"
   ]
  },
  {
   "cell_type": "markdown",
   "metadata": {},
   "source": [
    "# Results comparison "
   ]
  },
  {
   "cell_type": "code",
   "execution_count": 17,
   "metadata": {
    "collapsed": false
   },
   "outputs": [],
   "source": [
    "from rep.report import ClassificationReport\n",
    "from rep.data.storage import LabeledDataStorage\n",
    "\n",
    "lds = LabeledDataStorage(test_data, test_labels, test_weight)\n",
    "classifiers = {'grid_fold': grid_sk.fit_best_estimator(train_data[features], train_labels, train_weight),\n",
    "               'grid_test_dataset': grid.fit_best_estimator(train_data[features], train_labels, train_weight) }\n",
    "\n",
    "report = ClassificationReport(classifiers, lds)"
   ]
  },
  {
   "cell_type": "markdown",
   "metadata": {},
   "source": [
    "## ROCs"
   ]
  },
  {
   "cell_type": "code",
   "execution_count": 18,
   "metadata": {
    "collapsed": false
   },
   "outputs": [
    {
     "data": {
      "image/png": "[encoded data removed]",
      "text/plain": [
       "<matplotlib.figure.Figure at 0x11474ddd0>"
      ]
     },
     "metadata": {},
     "output_type": "display_data"
    }
   ],
   "source": [
    "report.roc().plot()"
   ]
  },
  {
   "cell_type": "markdown",
   "metadata": {},
   "source": [
    "## Metric"
   ]
  },
  {
   "cell_type": "code",
   "execution_count": 19,
   "metadata": {
    "collapsed": false
   },
   "outputs": [
    {
     "data": {
      "image/png": "[encoded data removed]",
      "text/plain": [
       "<matplotlib.figure.Figure at 0x115f52b90>"
      ]
     },
     "metadata": {},
     "output_type": "display_data"
    }
   ],
   "source": [
    "report.metrics_vs_cut(AMS, metric_label='AMS').plot()"
   ]
  }
 ],
 "metadata": {
  "kernelspec": {
   "display_name": "Python 2",
   "language": "python",
   "name": "python2"
  },
  "language_info": {
   "codemirror_mode": {
    "name": "ipython",
    "version": 2
   },
   "file_extension": ".py",
   "mimetype": "text/x-python",
   "name": "python",
   "nbconvert_exporter": "python",
   "pygments_lexer": "ipython2",
   "version": "2.7.8"
  }
 },
 "nbformat": 4,
 "nbformat_minor": 0
}
