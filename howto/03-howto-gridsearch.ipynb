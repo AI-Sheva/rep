{
 "cells": [
  {
   "cell_type": "markdown",
   "metadata": {},
   "source": [
    "# About\n",
    "\n",
    "This notebook demonstrates several additional tools to optimize classification model provided by __Reproducible experiment platform (REP)__ package:\n",
    "\n",
    "* __grid search for the best classifier hyperparameters__\n",
    "\n",
    "* __different optimization algorithms__ \n",
    "\n",
    "* __different scoring models__ (optimization of arbirtary figure of merit)\n",
    "\n"
   ]
  },
  {
   "cell_type": "code",
   "execution_count": 1,
   "metadata": {
    "collapsed": false
   },
   "outputs": [
    {
     "name": "stdout",
     "output_type": "stream",
     "text": [
      "Populating the interactive namespace from numpy and matplotlib\n"
     ]
    }
   ],
   "source": [
    "%pylab inline"
   ]
  },
  {
   "cell_type": "markdown",
   "metadata": {},
   "source": [
    "# Loading data "
   ]
  },
  {
   "cell_type": "code",
   "execution_count": 2,
   "metadata": {
    "collapsed": false
   },
   "outputs": [
    {
     "name": "stdout",
     "output_type": "stream",
     "text": [
      "File `magic04.data' already there; not retrieving.\r\n"
     ]
    }
   ],
   "source": [
    "!cd toy_datasets; wget -O magic04.data -nc https://archive.ics.uci.edu/ml/machine-learning-databases/magic/magic04.data"
   ]
  },
  {
   "cell_type": "code",
   "execution_count": 3,
   "metadata": {
    "collapsed": false
   },
   "outputs": [
    {
     "data": {
      "text/plain": [
       "['fLength',\n",
       " 'fWidth',\n",
       " 'fSize',\n",
       " 'fConc',\n",
       " 'fConc1',\n",
       " 'fAsym',\n",
       " 'fM3Long',\n",
       " 'fM3Trans',\n",
       " 'fAlpha',\n",
       " 'fDist']"
      ]
     },
     "execution_count": 3,
     "metadata": {},
     "output_type": "execute_result"
    }
   ],
   "source": [
    "import numpy, pandas\n",
    "from rep.utils import train_test_split\n",
    "from sklearn.metrics import roc_auc_score\n",
    "\n",
    "columns = ['fLength', 'fWidth', 'fSize', 'fConc', 'fConc1', 'fAsym', 'fM3Long', 'fM3Trans', 'fAlpha', 'fDist', 'g']\n",
    "data = pandas.read_csv('toy_datasets/magic04.data', names=columns)\n",
    "labels = numpy.array(data['g'] == 'g', dtype=int)\n",
    "data = data.drop('g', axis=1)\n",
    "\n",
    "train_data, test_data, train_labels, test_labels = train_test_split(data, labels)\n",
    "\n",
    "list(data.columns)"
   ]
  },
  {
   "cell_type": "markdown",
   "metadata": {},
   "source": [
    "## Variables used in training"
   ]
  },
  {
   "cell_type": "code",
   "execution_count": 4,
   "metadata": {
    "collapsed": true
   },
   "outputs": [],
   "source": [
    "features = list(set(columns) - {'g'})"
   ]
  },
  {
   "cell_type": "markdown",
   "metadata": {},
   "source": [
    "# Metric definition\n",
    "\n",
    "In Higgs challenge the aim is to maximize `AMS` metrics. <br />\n",
    "To measure the quality one should choose not only classifier, but also an optimal threshold, \n",
    "where the maximal value of `AMS` is achieved.\n",
    "\n",
    "Such metrics (which require a threshold) are called threshold-based.\n",
    "\n",
    "__rep.utils__ contain class __OptimalMetric__, which computes the maximal value for threshold-based metric (and may be used as metric).\n",
    "\n",
    "Use this class to generate metric and use it in grid search."
   ]
  },
  {
   "cell_type": "markdown",
   "metadata": {},
   "source": [
    "## Prepare quality metric\n",
    "\n",
    "first we define AMS metric, and `utils.OptimalMetric` generates "
   ]
  },
  {
   "cell_type": "code",
   "execution_count": 5,
   "metadata": {
    "collapsed": false
   },
   "outputs": [],
   "source": [
    "from rep.report import metrics"
   ]
  },
  {
   "cell_type": "code",
   "execution_count": 6,
   "metadata": {
    "collapsed": false
   },
   "outputs": [],
   "source": [
    "def AMS(s, b, s_norm=sum(test_labels == 1), b_norm=6*sum(test_labels == 0)): \n",
    "    return s * s_norm / numpy.sqrt(b * b_norm + 10.)\n",
    "optimal_AMS = metrics.OptimalMetric(AMS)"
   ]
  },
  {
   "cell_type": "code",
   "execution_count": 7,
   "metadata": {
    "collapsed": false
   },
   "outputs": [
    {
     "data": {
      "text/plain": [
       "(3071, 1684)"
      ]
     },
     "execution_count": 7,
     "metadata": {},
     "output_type": "execute_result"
    }
   ],
   "source": [
    "sum(test_labels == 1),sum(test_labels == 0)"
   ]
  },
  {
   "cell_type": "markdown",
   "metadata": {},
   "source": [
    "### Compute threshold vs metric quality\n",
    "random predictions for signal and background were used here"
   ]
  },
  {
   "cell_type": "code",
   "execution_count": 8,
   "metadata": {
    "collapsed": false
   },
   "outputs": [
    {
     "name": "stdout",
     "output_type": "stream",
     "text": [
      "Optimal cut=0.0096, quality=30.5758\n"
     ]
    },
    {
     "data": {
      "text/html": [],
      "text/plain": [
       "<rep.plotting.FunctionsPlot at 0x1118c2310>"
      ]
     },
     "execution_count": 8,
     "metadata": {},
     "output_type": "execute_result"
    },
    {
     "data": {
      "image/png": "[encoded data removed]",
      "text/plain": [
       "<matplotlib.figure.Figure at 0x1118c2e10>"
      ]
     },
     "metadata": {},
     "output_type": "display_data"
    }
   ],
   "source": [
    "probs_rand = numpy.ndarray((1000, 2))\n",
    "probs_rand[:, 1] = numpy.random.random(1000)\n",
    "probs_rand[:, 0] = 1 - probs_rand[:, 1]\n",
    "labels_rand = numpy.random.randint(0, high=2, size=1000)\n",
    "\n",
    "optimal_AMS.plot_vs_cut(labels_rand, probs_rand)"
   ]
  },
  {
   "cell_type": "markdown",
   "metadata": {},
   "source": [
    "### The best quality"
   ]
  },
  {
   "cell_type": "code",
   "execution_count": 9,
   "metadata": {
    "collapsed": false
   },
   "outputs": [
    {
     "data": {
      "text/plain": [
       "30.575776003303893"
      ]
     },
     "execution_count": 9,
     "metadata": {},
     "output_type": "execute_result"
    }
   ],
   "source": [
    "optimal_AMS(labels_rand, probs_rand)"
   ]
  },
  {
   "cell_type": "markdown",
   "metadata": {},
   "source": [
    "# Hyperparameters optimization algorithms\n",
    "\n",
    "__AbstractParameterGenerator__ is an abstract class to generate new points, where the scorer function will be computed. It is used in grid search to get new set of parameters to train classifier.\n",
    "\n",
    "__Properties__:\n",
    "\n",
    "* `best_params_` - return the best grid point\n",
    "\n",
    "* `best_score_` - return the best quality\n",
    "\n",
    "* `print_results(self, reorder=True)` - print all points with corresponding quality\n",
    "\n",
    "\n",
    "The following algorithms inherit from __AbstractParameterGenerator__:\n",
    "\n",
    "* `RandomParameterOptimizer` -  generates random point in parameters space\n",
    "    \n",
    "* `RegressionParameterOptimizer` - generate next point using regression algorithm, which was trained on previous results\n",
    "    \n",
    "* `SubgridParameterOptimizer` - uses subgrids if grid is huge + annealing-like technique (details see in __REP__)"
   ]
  },
  {
   "cell_type": "markdown",
   "metadata": {},
   "source": [
    "# Grid search"
   ]
  },
  {
   "cell_type": "markdown",
   "metadata": {},
   "source": [
    "__GridOptimalSearchCV__ implemets optimal search over specified parameter values for an estimator. Parameters to use it are:\n",
    "\n",
    "* estimator - object of type that implements the \"fit\" and \"predict\" methods\n",
    "\n",
    "* params_generator - generator of grid search algorithm (AbstractParameterGenerator)\n",
    "\n",
    "* scorer -  which implement method __call__ with kwargs: \"base_estimator\", \"params\", \"X\", \"y\", \"sample_weight\"\n",
    "\n",
    "* Important members are \"fit\", \"fit_best_estimator\""
   ]
  },
  {
   "cell_type": "code",
   "execution_count": 10,
   "metadata": {
    "collapsed": false
   },
   "outputs": [],
   "source": [
    "from rep.metaml import GridOptimalSearchCV\n",
    "from rep.metaml.gridsearch import RandomParameterOptimizer, FoldingScorer\n",
    "from rep.estimators import SklearnClassifier\n",
    "from sklearn.ensemble import AdaBoostClassifier\n",
    "from collections import OrderedDict"
   ]
  },
  {
   "cell_type": "markdown",
   "metadata": {},
   "source": [
    "## Grid search with folding scorer\n",
    "\n",
    "__FoldingScorer__ provides folding cross-validation for train dataset:\n",
    "\n",
    "* folds - `k`, number of folds (train on `k-1` fold, test on `1` fold)\n",
    "* folds_check - number of times model will be tested\n",
    "* score_function - function to calculate quality with interface \"function(y_true, proba, sample_weight=None)\"\n",
    "\n",
    "__NOTE__: if fold_checks > 1, the quality is averaged over tests.\n"
   ]
  },
  {
   "cell_type": "code",
   "execution_count": 11,
   "metadata": {
    "collapsed": false
   },
   "outputs": [
    {
     "data": {
      "text/plain": [
       "<rep.metaml.gridsearch.GridOptimalSearchCV at 0x10c4e7f50>"
      ]
     },
     "execution_count": 11,
     "metadata": {},
     "output_type": "execute_result"
    }
   ],
   "source": [
    "# define grid parameters\n",
    "grid_param = OrderedDict()\n",
    "grid_param['n_estimators'] = [30, 50]\n",
    "grid_param['learning_rate'] = [0.2, 0.1, 0.05]\n",
    "\n",
    "# use random hyperparameter optimization algorithm \n",
    "generator = RandomParameterOptimizer(grid_param)\n",
    "# define folding scorer\n",
    "scorer = FoldingScorer(optimal_AMS, folds=6, fold_checks=4)\n",
    "\n",
    "grid_sk = GridOptimalSearchCV(SklearnClassifier(AdaBoostClassifier(), features=features), generator, scorer)\n",
    "grid_sk.fit(data, labels)"
   ]
  },
  {
   "cell_type": "markdown",
   "metadata": {},
   "source": [
    "### Print best parameters"
   ]
  },
  {
   "cell_type": "code",
   "execution_count": 12,
   "metadata": {
    "collapsed": false
   },
   "outputs": [
    {
     "data": {
      "text/plain": [
       "OrderedDict([('n_estimators', 50), ('learning_rate', 0.2)])"
      ]
     },
     "execution_count": 12,
     "metadata": {},
     "output_type": "execute_result"
    }
   ],
   "source": [
    "grid_sk.generator.best_params_"
   ]
  },
  {
   "cell_type": "markdown",
   "metadata": {},
   "source": [
    "### Print all qualities for used parameters"
   ]
  },
  {
   "cell_type": "code",
   "execution_count": 13,
   "metadata": {
    "collapsed": false
   },
   "outputs": [
    {
     "name": "stdout",
     "output_type": "stream",
     "text": [
      "58.674:  n_estimators=50, learning_rate=0.2\n",
      "56.484:  n_estimators=30, learning_rate=0.2\n",
      "56.100:  n_estimators=50, learning_rate=0.1\n",
      "53.704:  n_estimators=30, learning_rate=0.1\n",
      "53.278:  n_estimators=50, learning_rate=0.05\n",
      "53.091:  n_estimators=30, learning_rate=0.05\n"
     ]
    }
   ],
   "source": [
    "grid_sk.generator.print_results()"
   ]
  },
  {
   "cell_type": "markdown",
   "metadata": {},
   "source": [
    "## Grid search with user-defined scorer\n",
    "\n",
    "You can define your own scorer with specific logic by simple way. Scorer must have just the following:\n",
    "\n",
    "* scorer(base_estimator, params, X, y, sample_weight)"
   ]
  },
  {
   "cell_type": "markdown",
   "metadata": {},
   "source": [
    "### Define scorer, which will be train model on all dataset and test it on the pre-defined dataset"
   ]
  },
  {
   "cell_type": "code",
   "execution_count": 14,
   "metadata": {
    "collapsed": false
   },
   "outputs": [],
   "source": [
    "from sklearn import clone\n",
    "def generate_scorer(test, test_labels, test_weight=None):\n",
    "    \"\"\" Generate scorer which calculate metric on fixed test dataset \"\"\"\n",
    "    def custom(base_estimator, params, X, y, sample_weight=None):\n",
    "        cl = clone(base_estimator)\n",
    "        cl.set_params(**params)\n",
    "        cl.fit(X, y)\n",
    "        res = optimal_AMS(test_labels, cl.predict_proba(test), sample_weight)\n",
    "        return res\n",
    "    return custom"
   ]
  },
  {
   "cell_type": "code",
   "execution_count": 15,
   "metadata": {
    "collapsed": false
   },
   "outputs": [
    {
     "data": {
      "text/plain": [
       "<rep.metaml.gridsearch.GridOptimalSearchCV at 0x111badf90>"
      ]
     },
     "execution_count": 15,
     "metadata": {},
     "output_type": "execute_result"
    }
   ],
   "source": [
    "# define grid parameters\n",
    "grid_param = OrderedDict()\n",
    "grid_param['n_estimators'] = [30, 50]\n",
    "grid_param['learning_rate'] = [0.2, 0.1, 0.05]\n",
    "grid_param['features'] = [features[:5], features[:8]]\n",
    "\n",
    "# define random hyperparameter optimization algorithm \n",
    "generator = RandomParameterOptimizer(grid_param)\n",
    "# define specific scorer\n",
    "scorer = generate_scorer(test_data, test_labels)\n",
    "\n",
    "grid = GridOptimalSearchCV(SklearnClassifier(clf=AdaBoostClassifier(), features=features), generator, scorer)\n",
    "grid.fit(train_data, train_labels)"
   ]
  },
  {
   "cell_type": "code",
   "execution_count": 16,
   "metadata": {
    "collapsed": false
   },
   "outputs": [
    {
     "data": {
      "text/plain": [
       "(14265, 4755)"
      ]
     },
     "execution_count": 16,
     "metadata": {},
     "output_type": "execute_result"
    }
   ],
   "source": [
    "len(train_data), len(test_data)"
   ]
  },
  {
   "cell_type": "markdown",
   "metadata": {},
   "source": [
    "### Print all tried combinations of parameters and quality"
   ]
  },
  {
   "cell_type": "code",
   "execution_count": 17,
   "metadata": {
    "collapsed": false
   },
   "outputs": [
    {
     "name": "stdout",
     "output_type": "stream",
     "text": [
      "60.269:  n_estimators=50, learning_rate=0.2, features=['fLength', 'fDist', 'fConc', 'fWidth', 'fM3Long', 'fSize', 'fConc1', 'fAlpha']\n",
      "57.120:  n_estimators=30, learning_rate=0.2, features=['fLength', 'fDist', 'fConc', 'fWidth', 'fM3Long', 'fSize', 'fConc1', 'fAlpha']\n",
      "56.238:  n_estimators=50, learning_rate=0.1, features=['fLength', 'fDist', 'fConc', 'fWidth', 'fM3Long', 'fSize', 'fConc1', 'fAlpha']\n",
      "55.923:  n_estimators=50, learning_rate=0.05, features=['fLength', 'fDist', 'fConc', 'fWidth', 'fM3Long', 'fSize', 'fConc1', 'fAlpha']\n",
      "55.677:  n_estimators=30, learning_rate=0.1, features=['fLength', 'fDist', 'fConc', 'fWidth', 'fM3Long', 'fSize', 'fConc1', 'fAlpha']\n",
      "55.221:  n_estimators=30, learning_rate=0.05, features=['fLength', 'fDist', 'fConc', 'fWidth', 'fM3Long', 'fSize', 'fConc1', 'fAlpha']\n",
      "37.438:  n_estimators=30, learning_rate=0.2, features=['fLength', 'fDist', 'fConc', 'fWidth', 'fM3Long']\n",
      "37.281:  n_estimators=50, learning_rate=0.05, features=['fLength', 'fDist', 'fConc', 'fWidth', 'fM3Long']\n",
      "37.218:  n_estimators=50, learning_rate=0.1, features=['fLength', 'fDist', 'fConc', 'fWidth', 'fM3Long']\n",
      "37.063:  n_estimators=30, learning_rate=0.05, features=['fLength', 'fDist', 'fConc', 'fWidth', 'fM3Long']\n"
     ]
    }
   ],
   "source": [
    "grid.generator.print_results()"
   ]
  },
  {
   "cell_type": "markdown",
   "metadata": {},
   "source": [
    "# Results comparison "
   ]
  },
  {
   "cell_type": "code",
   "execution_count": 18,
   "metadata": {
    "collapsed": false
   },
   "outputs": [],
   "source": [
    "from rep.report import ClassificationReport\n",
    "from rep.data.storage import LabeledDataStorage\n",
    "\n",
    "lds = LabeledDataStorage(test_data, test_labels)\n",
    "classifiers = {'grid_fold': grid_sk.fit_best_estimator(train_data[features], train_labels),\n",
    "               'grid_test_dataset': grid.fit_best_estimator(train_data[features], train_labels) }\n",
    "\n",
    "report = ClassificationReport(classifiers, lds)"
   ]
  },
  {
   "cell_type": "markdown",
   "metadata": {},
   "source": [
    "## ROCs"
   ]
  },
  {
   "cell_type": "code",
   "execution_count": 19,
   "metadata": {
    "collapsed": false
   },
   "outputs": [
    {
     "data": {
      "image/png": "[encoded data removed]",
      "text/plain": [
       "<matplotlib.figure.Figure at 0x10b13f450>"
      ]
     },
     "metadata": {},
     "output_type": "display_data"
    }
   ],
   "source": [
    "report.roc().plot()"
   ]
  },
  {
   "cell_type": "markdown",
   "metadata": {},
   "source": [
    "## Metric"
   ]
  },
  {
   "cell_type": "code",
   "execution_count": 20,
   "metadata": {
    "collapsed": false
   },
   "outputs": [
    {
     "data": {
      "image/png": "[encoded data removed]",
      "text/plain": [
       "<matplotlib.figure.Figure at 0x10911b210>"
      ]
     },
     "metadata": {},
     "output_type": "display_data"
    }
   ],
   "source": [
    "report.metrics_vs_cut(AMS, metric_label='AMS').plot()"
   ]
  }
 ],
 "metadata": {
  "kernelspec": {
   "display_name": "Python 2",
   "language": "python",
   "name": "python2"
  },
  "language_info": {
   "codemirror_mode": {
    "name": "ipython",
    "version": 2
   },
   "file_extension": ".py",
   "mimetype": "text/x-python",
   "name": "python",
   "nbconvert_exporter": "python",
   "pygments_lexer": "ipython2",
   "version": "2.7.8"
  }
 },
 "nbformat": 4,
 "nbformat_minor": 0
}
