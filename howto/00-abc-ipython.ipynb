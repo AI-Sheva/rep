{
 "cells": [
  {
   "cell_type": "markdown",
   "metadata": {},
   "source": [
    "# An introduction to the IPython notebook\n",
    "\n",
    "The IPython web notebook is a frontend that allows for new modes\n",
    "of interaction with IPython: this web-based interface allows you to execute Python and IPython\n",
    "commands in each input cell just like you would at the IPython terminal or Qt console, but you can\n",
    "also save an entire session as a document in a file with the `.ipynb` extension.\n",
    "\n",
    "The document you are reading now is precisely an example of one such notebook, and we will show you\n",
    "here how to best use this new interface.\n",
    "\n",
    "The first thing to understand is that a notebook consists of a sequence of 'cells' that can contain \n",
    "either text (such as this one) or code meant for execution (such as the next one):\n",
    "\n",
    "* Text cells can be written using [Markdown syntax](http://daringfireball.net/projects/markdown/syntax) \n",
    "(in a future release we will also provide support for reStructuredText and Sphinx integration, and we \n",
    "welcome help from interested contributors to make that happen).\n",
    "\n",
    "* Code cells take IPython input (i.e. Python code, `%magics`, `!system calls`, etc) like IPython at\n",
    "the terminal or at the Qt Console.  The only difference is that in order to execute a cell, you *must*\n",
    "use `Shift-Enter`, as pressing `Enter` will add a new line of text to the cell.  When you type \n",
    "`Shift-Enter`, the cell content is executed, output displayed and a new cell is created below.  Try\n",
    "it now by putting your cursor on the next cell and typing `Shift-Enter`:"
   ]
  },
  {
   "cell_type": "code",
   "execution_count": 1,
   "metadata": {
    "collapsed": false
   },
   "outputs": [
    {
     "data": {
      "text/plain": [
       "'This is the new IPython notebook'"
      ]
     },
     "execution_count": 1,
     "metadata": {},
     "output_type": "execute_result"
    }
   ],
   "source": [
    "\"This is the new IPython notebook\""
   ]
  },
  {
   "cell_type": "markdown",
   "metadata": {},
   "source": [
    "You can re-execute the same cell over and over as many times as you want.  Simply put your\n",
    "cursor in the cell again, edit at will, and type `Shift-Enter` to execute.  \n",
    "\n",
    "**Tip:** A cell can also be executed\n",
    "*in-place*, where IPython executes its content but leaves the cursor in the same cell.  This is done by\n",
    "typing `Ctrl-Enter` instead, and is useful if you want to quickly run a command to check something \n",
    "before tping the real content you want to leave in the cell. For example, in the next cell, try issuing\n",
    "several system commands in-place with `Ctrl-Enter`, such as `pwd` and then `ls`:"
   ]
  },
  {
   "cell_type": "code",
   "execution_count": 2,
   "metadata": {
    "collapsed": false
   },
   "outputs": [
    {
     "name": "stdout",
     "output_type": "stream",
     "text": [
      "00-abc-ipython.ipynb              00-intro_ipython.ipynb            04-howto-folding.ipynb            13-howto-ipykee-advanced.ipynb    \u001b[1m\u001b[31msync.sh\u001b[m\u001b[m*\r\n",
      "00-howto-DataStorage.ipynb        01-howto-Classifiers.ipynb        10-howto-ipykee-local.ipynb       14-howto-ipykee-advanced-2.ipynb  \u001b[1m\u001b[36mtmpJTdyp_\u001b[m\u001b[m/\r\n",
      "00-intro-ROOT.ipynb               02-howto-Factory.ipynb            11-howto-ipykee-remote.ipynb      lhcbStyle.C                       \u001b[1m\u001b[36mtoy_datasets\u001b[m\u001b[m/\r\n",
      "00-intro-ROOT_2.ipynb             03-howto-gridsearch(Higgs).ipynb  12-howto-ipykee-keeper.ipynb      \u001b[1m\u001b[31mrun_lxplus.sh\u001b[m\u001b[m*                    train\r\n"
     ]
    }
   ],
   "source": [
    "ls"
   ]
  },
  {
   "cell_type": "code",
   "execution_count": 3,
   "metadata": {
    "collapsed": false
   },
   "outputs": [
    {
     "name": "stdout",
     "output_type": "stream",
     "text": [
      "total 51256\r\n",
      "-rw-r--r--  1 antares  LD\\Domain Users     50483  9 фев 16:11 00-abc-ipython.ipynb\r\n",
      "-rw-r--r--  1 antares  LD\\Domain Users     47725  9 фев 20:22 00-howto-DataStorage.ipynb\r\n",
      "-rw-r--r--  1 antares  LD\\Domain Users     66654  9 фев 16:11 00-intro-ROOT.ipynb\r\n",
      "-rw-r--r--  1 antares  LD\\Domain Users    138418  9 фев 16:11 00-intro-ROOT_2.ipynb\r\n",
      "-rw-r--r--  1 antares  LD\\Domain Users    370842  9 фев 16:11 00-intro_ipython.ipynb\r\n",
      "-rw-r--r--  1 antares  LD\\Domain Users     63951  9 фев 20:28 01-howto-Classifiers.ipynb\r\n",
      "-rw-r--r--  1 antares  LD\\Domain Users   1064377  9 фев 20:30 02-howto-Factory.ipynb\r\n",
      "-rw-r--r--  1 antares  LD\\Domain Users     91768  9 фев 20:30 03-howto-gridsearch(Higgs).ipynb\r\n",
      "-rw-r--r--  1 antares  LD\\Domain Users    122788  9 фев 20:28 04-howto-folding.ipynb\r\n",
      "-rw-r--r--  1 antares  LD\\Domain Users      4170  9 фев 16:11 10-howto-ipykee-local.ipynb\r\n",
      "-rw-r--r--  1 antares  LD\\Domain Users      4610  9 фев 16:11 11-howto-ipykee-remote.ipynb\r\n",
      "-rw-r--r--  1 antares  LD\\Domain Users      7544  9 фев 16:11 12-howto-ipykee-keeper.ipynb\r\n",
      "-rw-r--r--  1 antares  LD\\Domain Users    135885  9 фев 16:11 13-howto-ipykee-advanced.ipynb\r\n",
      "-rw-r--r--  1 antares  LD\\Domain Users    134076  9 фев 16:11 14-howto-ipykee-advanced-2.ipynb\r\n",
      "-rw-r--r--  1 antares  LD\\Domain Users      6324  9 фев 16:11 lhcbStyle.C\r\n",
      "-rwxr-xr-x  1 antares  LD\\Domain Users       626  9 фев 16:11 \u001b[1m\u001b[31mrun_lxplus.sh\u001b[m\u001b[m*\r\n",
      "-rwxr-xr-x  1 antares  LD\\Domain Users       251  9 фев 16:11 \u001b[1m\u001b[31msync.sh\u001b[m\u001b[m*\r\n",
      "drwx------  5 antares  LD\\Domain Users       170  9 фев 20:21 \u001b[1m\u001b[36mtmpJTdyp_\u001b[m\u001b[m/\r\n",
      "drwxr-xr-x  7 antares  LD\\Domain Users       238  9 фев 16:11 \u001b[1m\u001b[36mtoy_datasets\u001b[m\u001b[m/\r\n",
      "-rw-r--r--  1 antares  LD\\Domain Users  23893497  9 фев 20:21 train\r\n"
     ]
    }
   ],
   "source": [
    "ls -l"
   ]
  },
  {
   "cell_type": "markdown",
   "metadata": {},
   "source": [
    "In a cell, you can type anything from a single python expression to an arbitrarily long amount of code \n",
    "(although for reasons of readability, you should probably limit this to a few dozen lines):"
   ]
  },
  {
   "cell_type": "code",
   "execution_count": 4,
   "metadata": {
    "collapsed": false
   },
   "outputs": [
    {
     "name": "stdout",
     "output_type": "stream",
     "text": [
      "f(3) =  4\n"
     ]
    }
   ],
   "source": [
    "def f(x):\n",
    "    \"\"\"My function\n",
    "    x : parameter\"\"\"\n",
    "    \n",
    "    return x+1\n",
    "\n",
    "print \"f(3) = \", f(3)"
   ]
  },
  {
   "cell_type": "code",
   "execution_count": 4,
   "metadata": {
    "collapsed": false
   },
   "outputs": [],
   "source": []
  },
  {
   "cell_type": "markdown",
   "metadata": {},
   "source": [
    "## User interface\n",
    "\n",
    "When you start a new notebook server with `ipython notebook`, your\n",
    "browser should open into the *Dashboard*, a page listing all notebooks\n",
    "available in the current directory as well as letting you create new\n",
    "notebooks.  In this page, you can also drag and drop existing `.py` files\n",
    "over the file list to import them as notebooks (see the manual for \n",
    "[further details on how these files are \n",
    "interpreted](http://ipython.org/ipython-doc/stable/interactive/htmlnotebook.html)).\n",
    "\n",
    "Once you open an existing notebook (like this one) or create a new one,\n",
    "you are in the main notebook interface, which consists of a main editing\n",
    "area (where these cells are contained) as well as a collapsible left panel, \n",
    "a permanent header area at the top, and a pager that rises from the\n",
    "bottom when needed and can be collapsed again."
   ]
  },
  {
   "cell_type": "markdown",
   "metadata": {},
   "source": [
    "### Main editing area\n",
    "\n",
    "Here, you can move with the arrow keys or using the \n",
    "scroll bars.  The cursor enters code cells immediately, but only selects\n",
    "text (markdown) cells without entering in them; to enter a text cell,\n",
    "use `Enter`, and `Shift-Enter` to exit it again (just like to execute a \n",
    "code cell)."
   ]
  },
  {
   "cell_type": "markdown",
   "metadata": {},
   "source": [
    "### Left panel\n",
    "\n",
    "This panel contains a number of panes that can be\n",
    "collapsed vertically by clicking on their title bar, and the whole panel\n",
    "can also be collapsed by clicking on the vertical divider (note that you\n",
    "can not *drag* the divider, for now you can only click on it).\n",
    "\n",
    "The *Notebook* section contains actions that pertain to the whole notebook,\n",
    "such as downloading the current notebook either in its original format\n",
    "or as a `.py` script, and printing it.  When you click the `Print` button,\n",
    "a new HTML page opens with a static copy of the notebook; you can then\n",
    "use your web browser's mechanisms to save or print this file.\n",
    "\n",
    "The *Cell* section lets you manipulate individual cells, and the names should \n",
    "be fairly self-explanatory.\n",
    "\n",
    "The *Kernel* section lets you signal the kernel executing your code. \n",
    "`Interrupt` does the equivalent of hitting `Ctrl-C` at a terminal, and\n",
    "`Restart` fully kills the kernel process and starts a fresh one.  Obviously\n",
    "this means that all your previous variables are destroyed, but it also\n",
    "makes it easy to get a fresh kernel in which to re-execute a notebook, perhaps\n",
    "after changing an extension module for which Python's `reload` mechanism\n",
    "does not work.   If you check the 'Kill kernel upon exit' box, when you \n",
    "close the page IPython will automatically shut down the running kernel;\n",
    "otherwise the kernels won't close until you stop the whole \n",
    "\n",
    "The *Help* section contains links to the documentation of some projects\n",
    "closely related to IPython as well as the minimal keybindings you need to\n",
    "know.  But you should use `Ctrl-m h` (or click the `QuickHelp` button at\n",
    "the top) and learn some of the other keybindings, as it will make your \n",
    "workflow much more fluid and efficient.\n",
    "\n",
    "The *Configuration* section at the bottom lets you change some values\n",
    "related to the display of tooltips and the behavior of the tab completer."
   ]
  },
  {
   "cell_type": "markdown",
   "metadata": {},
   "source": [
    "### Header bar\n",
    "\n",
    "The header area at the top allows you to rename an existing \n",
    "notebook and open up a short help tooltip.  This area also indicates\n",
    "with a red **Busy** mark on the right whenever the kernel is busy executing\n",
    "code."
   ]
  },
  {
   "cell_type": "markdown",
   "metadata": {},
   "source": [
    "### The pager at the bottom\n",
    "\n",
    "Whenever IPython needs to display additional \n",
    "information, such as when you type `somefunction?` in a cell, the notebook\n",
    "opens a pane at the bottom where this information is shown.  You can keep\n",
    "this pager pane open for reference (it doesn't block input in the main area)\n",
    "or dismiss it by clicking on its divider bar."
   ]
  },
  {
   "cell_type": "markdown",
   "metadata": {},
   "source": [
    "### Tab completion and tooltips\n",
    "\n",
    "The notebook uses the same underlying machinery for tab completion that \n",
    "IPython uses at the terminal, but displays the information differently.\n",
    "Whey you complete with the `Tab` key, IPython shows a drop list with all\n",
    "available completions.  If you type more characters while this list is open,\n",
    "IPython automatically eliminates from the list options that don't match the\n",
    "new characters; once there is only one option left you can hit `Tab` once\n",
    "more (or `Enter`) to complete.  You can also select the completion you\n",
    "want with the arrow keys or the mouse, and then hit `Enter`.\n",
    "\n",
    "In addition, if you hit `Tab` inside of open parentheses, IPython will \n",
    "search for the docstring of the last object left of the parens and will\n",
    "display it on a tooltip. For example, type `list(<TAB>` and you will\n",
    "see the docstring for the builtin `list` constructor:"
   ]
  },
  {
   "cell_type": "code",
   "execution_count": 5,
   "metadata": {
    "collapsed": true
   },
   "outputs": [
    {
     "data": {
      "text/plain": [
       "[]"
      ]
     },
     "execution_count": 5,
     "metadata": {},
     "output_type": "execute_result"
    }
   ],
   "source": [
    "# Position your cursor after the ( and hit the Tab key:\n",
    "list()"
   ]
  },
  {
   "cell_type": "markdown",
   "metadata": {},
   "source": [
    "## The frontend/kernel model\n",
    "\n",
    "The IPython notebook works on a client/server model where an *IPython kernel*\n",
    "starts in a separate process and acts as a server to executes the code you type,\n",
    "while the web browser provides acts as a client, providing a front end environment\n",
    "for you to type.  But one kernel is capable of simultaneously talking to more than\n",
    "one client, and they do not all need to be of the same kind.  All IPython frontends\n",
    "are capable of communicating with a kernel, and any number of them can be active\n",
    "at the same time.  In addition to allowing you to have, for example, more than one\n",
    "browser session active, this lets you connect clients with different user interface features.\n",
    "\n",
    "For example, you may want to connect a Qt console to your kernel and use it as a help\n",
    "browser, calling `??` on objects in the Qt console (whose pager is more flexible than the\n",
    "one in the notebook).  You can start a new Qt console connected to your current kernel by \n",
    "using the `%qtconsole` magic, this will automatically detect the necessary connection\n",
    "information.\n",
    "\n",
    "If you want to open one manually, or want to open a text console from a terminal, you can \n",
    "get your kernel's connection information with the `%connect_info` magic:"
   ]
  },
  {
   "cell_type": "code",
   "execution_count": 6,
   "metadata": {
    "collapsed": false
   },
   "outputs": [
    {
     "name": "stdout",
     "output_type": "stream",
     "text": [
      "{\n",
      "  \"stdin_port\": 54767, \n",
      "  \"ip\": \"127.0.0.1\", \n",
      "  \"control_port\": 54768, \n",
      "  \"hb_port\": 54769, \n",
      "  \"signature_scheme\": \"hmac-sha256\", \n",
      "  \"key\": \"2fe17a6a-d4a6-490e-9cee-d29b38969a60\", \n",
      "  \"shell_port\": 54765, \n",
      "  \"transport\": \"tcp\", \n",
      "  \"iopub_port\": 54766\n",
      "}\n",
      "\n",
      "Paste the above JSON into a file, and connect with:\n",
      "    $> ipython <app> --existing <file>\n",
      "or, if you are local, you can connect with just:\n",
      "    $> ipython <app> --existing kernel-926660e5-dc15-4ba5-ac3b-1e68f809ec52.json \n",
      "or even just:\n",
      "    $> ipython <app> --existing \n",
      "if this is the most recent IPython session you have started.\n"
     ]
    }
   ],
   "source": [
    "%connect_info"
   ]
  },
  {
   "cell_type": "markdown",
   "metadata": {},
   "source": [
    "## The kernel's `raw_input` and `%debug`\n",
    "\n",
    "The one feature the notebook currently doesn't support as a client is the ability to send data to the kernel's\n",
    "standard input socket.  That is, if the kernel requires information to be typed interactively by calling the\n",
    "builtin `raw_input` function, the notebook will be blocked.  This happens for example if you run a script\n",
    "that queries interactively for parameters, and very importantly, is how the interactive IPython debugger that \n",
    "activates when you type `%debug` works.\n",
    "\n",
    "So, in order to be able to use `%debug` or anything else that requires `raw_input`, you can either use a Qt \n",
    "console or a terminal console:\n",
    "\n",
    "- From the notebook, typing `%qtconsole` finds all the necessary connection data for you.\n",
    "- From the terminal, first type `%connect_info` while still in the notebook, and then copy and paste the \n",
    "resulting information, using `qtconsole` or `console` depending on which type of client you want."
   ]
  },
  {
   "cell_type": "markdown",
   "metadata": {},
   "source": [
    "## Display of complex objects\n",
    "\n",
    "As the 'tour' notebook shows, the IPython notebook has fairly sophisticated display capabilities.  In addition\n",
    "to the examples there, you can study the `display_protocol` notebook in this same examples folder, to \n",
    "learn how to customize arbitrary objects (in your own code or external libraries) to display in the notebook\n",
    "in any way you want, including graphical forms or mathematical expressions."
   ]
  },
  {
   "cell_type": "markdown",
   "metadata": {},
   "source": [
    "## Plotting support\n",
    "\n",
    "As we've explained already, the notebook is just another frontend talking to the same IPython kernel that\n",
    "you're already familiar with, so the same options for plotting support apply.\n",
    "\n",
    "If you start the notebook with `--pylab`, you will get matplotlib's floating, interactive windows and you\n",
    "can call the `display` function to paste figures into the notebook document.  If you start it with \n",
    "`--pylab inline`, all plots will appear inline automatically.  In this regard, the notebook works identically\n",
    "to the Qt console.\n",
    "\n",
    "Note that if you start the notebook server with pylab support, *all* kernels are automatically started in\n",
    "pylab mode and with the same choice of backend (i.e. floating windows or inline figures).  But you can also\n",
    "start the notebook server simply by typing `ipython notebook`, and then selectively turn on pylab support \n",
    "only for the notebooks you want by using the `%pylab` magic (see its docstring for details)."
   ]
  },
  {
   "cell_type": "code",
   "execution_count": 7,
   "metadata": {
    "collapsed": false
   },
   "outputs": [
    {
     "name": "stdout",
     "output_type": "stream",
     "text": [
      "Populating the interactive namespace from numpy and matplotlib\n"
     ]
    },
    {
     "name": "stderr",
     "output_type": "stream",
     "text": [
      "WARNING: pylab import has clobbered these variables: ['f']\n",
      "`%matplotlib` prevents importing * from pylab and numpy\n"
     ]
    }
   ],
   "source": [
    "%pylab inline"
   ]
  },
  {
   "cell_type": "code",
   "execution_count": 8,
   "metadata": {
    "collapsed": false
   },
   "outputs": [
    {
     "data": {
      "text/plain": [
       "[<matplotlib.lines.Line2D at 0x104a06f50>]"
      ]
     },
     "execution_count": 8,
     "metadata": {},
     "output_type": "execute_result"
    },
    {
     "data": {
      "image/png": "[encoded data removed]",
      "text/plain": [
       "<matplotlib.figure.Figure at 0x104963610>"
      ]
     },
     "metadata": {},
     "output_type": "display_data"
    }
   ],
   "source": [
    "plot(rand(100))"
   ]
  },
  {
   "cell_type": "markdown",
   "metadata": {},
   "source": [
    "## Security\n",
    "\n",
    "By default the notebook only listens on localhost, so it does not expose your computer to attacks coming from\n",
    "the internet.  By default the notebook does not require any authentication, but you can configure it to\n",
    "ask for a password before allowing access to the files.  \n",
    "\n",
    "Furthermore, you can require the notebook to encrypt all communications by using SSL and making all connections\n",
    "using the https protocol instead of plain http.  This is a good idea if you decide to run your notebook on\n",
    "addresses that are visible from the internet.  For further details on how to configure this, see the\n",
    "[security section](http://ipython.org/ipython-doc/stable/interactive/htmlnotebook.html#security) of the \n",
    "manual.\n",
    "\n",
    "Finally, note that you can also run a notebook with the `--read-only` flag, which lets you provide access\n",
    "to your notebook documents to others without letting them execute code (which can be useful to broadcast\n",
    "a computation to colleagues or students, for example).  The read-only flag behaves differently depending\n",
    "on whether the server has a password or not:\n",
    "\n",
    "- Passwordless server: users directly see all notebooks in read-only mode.\n",
    "- Password-protected server: users can see all notebooks in read-only mode, but a login button is available\n",
    "and once a user authenticates, he or she obtains write/execute privileges.\n",
    "\n",
    "The first case above makes it easy to broadcast on the fly an existing notebook by simply starting a *second* \n",
    "notebook server in the same directory as the first, but in read-only mode.  This can be done without having\n",
    "to configure a password first (which requires calling a hashing function and editing a configuration file)."
   ]
  },
  {
   "cell_type": "code",
   "execution_count": 8,
   "metadata": {
    "collapsed": true
   },
   "outputs": [],
   "source": []
  }
 ],
 "metadata": {
  "kernelspec": {
   "display_name": "Python 2",
   "language": "python",
   "name": "python2"
  },
  "language_info": {
   "codemirror_mode": {
    "name": "ipython",
    "version": 2
   },
   "file_extension": ".py",
   "mimetype": "text/x-python",
   "name": "python",
   "nbconvert_exporter": "python",
   "pygments_lexer": "ipython2",
   "version": "2.7.8"
  }
 },
 "nbformat": 4,
 "nbformat_minor": 0
}
